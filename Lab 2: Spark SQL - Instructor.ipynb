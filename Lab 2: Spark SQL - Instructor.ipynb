{
    "nbformat_minor": 0, 
    "metadata": {
        "language_info": {
            "codemirror_mode": {
                "name": "ipython", 
                "version": 2
            }, 
            "pygments_lexer": "ipython2", 
            "version": "2.7.11", 
            "name": "python", 
            "file_extension": ".py", 
            "mimetype": "text/x-python", 
            "nbconvert_exporter": "python"
        }, 
        "kernelspec": {
            "language": "python", 
            "name": "python2-spark20", 
            "display_name": "Python 2 with Spark 2.0"
        }
    }, 
    "cells": [
        {
            "source": "<img src='https://raw.githubusercontent.com/bradenrc/sparksql_pot/master/sparkSQL4.png' width=\"80%\" height=\"80%\"></img>", 
            "metadata": {
                "collapsed": true
            }, 
            "cell_type": "markdown"
        }, 
        {
            "source": "<img src='https://raw.githubusercontent.com/bradenrc/sparksql_pot/master/sparkSQL2.png' width=\"80%\" height=\"80%\"></img>", 
            "metadata": {}, 
            "cell_type": "markdown"
        }, 
        {
            "source": "<img src='https://raw.githubusercontent.com/bradenrc/sparksql_pot/master/sparkSQL3.png' width=\"80%\" height=\"80%\"></img>", 
            "metadata": {}, 
            "cell_type": "markdown"
        }, 
        {
            "source": "<img src='https://raw.githubusercontent.com/bradenrc/sparksql_pot/master/sparkSQL1.png' width=\"80%\" height=\"80%\"></img>", 
            "metadata": {}, 
            "cell_type": "markdown"
        }, 
        {
            "source": "# SQL queries Dataframes, not RDDs", 
            "metadata": {}, 
            "cell_type": "markdown"
        }, 
        {
            "source": "A data file on world banks will downloaded from GitHub after removing any previous data that may exist", 
            "metadata": {}, 
            "cell_type": "markdown"
        }, 
        {
            "execution_count": 1, 
            "source": "# In jupyter notebooks you can prefice commands with a ! to run shell commands\n# here we remove any files with the name of the file we are going to download\n# then download the file\n\n!rm world_bank.json.gz -f\n!wget https://raw.githubusercontent.com/bradenrc/sparksql_pot/master/world_bank.json.gz", 
            "metadata": {
                "collapsed": false
            }, 
            "cell_type": "code", 
            "outputs": [
                {
                    "name": "stdout", 
                    "output_type": "stream", 
                    "text": "--2017-04-25 16:04:38--  https://raw.githubusercontent.com/bradenrc/sparksql_pot/master/world_bank.json.gz\nResolving raw.githubusercontent.com (raw.githubusercontent.com)... 151.101.48.133\nConnecting to raw.githubusercontent.com (raw.githubusercontent.com)|151.101.48.133|:443... connected.\nHTTP request sent, awaiting response... 200 OK\nLength: 446287 (436K) [application/octet-stream]\nSaving to: \u2018world_bank.json.gz\u2019\n\n100%[======================================>] 446,287     --.-K/s   in 0.03s   \n\n2017-04-25 16:04:38 (14.1 MB/s) - \u2018world_bank.json.gz\u2019 saved [446287/446287]\n\n"
                }
            ]
        }, 
        {
            "source": "# Many other types are supported including text and Parquet\n\nHere we are creating a Dataframe, similar to an RDD, but with a schema and abstraction that allows\nfor SQL to be used.", 
            "metadata": {}, 
            "cell_type": "markdown"
        }, 
        {
            "execution_count": 2, 
            "source": "#You can load json, text and other files using sqlContext\n#unlinke an RDD, this will attempt to create a schema around the data\n#self describing data works really well for this\n\nexample1_df = spark.read.json(\"./world_bank.json.gz\")", 
            "metadata": {
                "collapsed": true
            }, 
            "cell_type": "code", 
            "outputs": []
        }, 
        {
            "execution_count": 3, 
            "source": "# Spark SQL has the ability to infer the schema of JSON data and understand the structure of the data\n#once we have created the Dataframe, we can print out the schema to see the shape of the data\n\nprint example1_df.printSchema()", 
            "metadata": {
                "collapsed": false
            }, 
            "cell_type": "code", 
            "outputs": [
                {
                    "name": "stdout", 
                    "output_type": "stream", 
                    "text": "root\n |-- _id: struct (nullable = true)\n |    |-- $oid: string (nullable = true)\n |-- approvalfy: string (nullable = true)\n |-- board_approval_month: string (nullable = true)\n |-- boardapprovaldate: string (nullable = true)\n |-- borrower: string (nullable = true)\n |-- closingdate: string (nullable = true)\n |-- country_namecode: string (nullable = true)\n |-- countrycode: string (nullable = true)\n |-- countryname: string (nullable = true)\n |-- countryshortname: string (nullable = true)\n |-- docty: string (nullable = true)\n |-- envassesmentcategorycode: string (nullable = true)\n |-- grantamt: long (nullable = true)\n |-- ibrdcommamt: long (nullable = true)\n |-- id: string (nullable = true)\n |-- idacommamt: long (nullable = true)\n |-- impagency: string (nullable = true)\n |-- lendinginstr: string (nullable = true)\n |-- lendinginstrtype: string (nullable = true)\n |-- lendprojectcost: long (nullable = true)\n |-- majorsector_percent: array (nullable = true)\n |    |-- element: struct (containsNull = true)\n |    |    |-- Name: string (nullable = true)\n |    |    |-- Percent: long (nullable = true)\n |-- mjsector_namecode: array (nullable = true)\n |    |-- element: struct (containsNull = true)\n |    |    |-- code: string (nullable = true)\n |    |    |-- name: string (nullable = true)\n |-- mjtheme: array (nullable = true)\n |    |-- element: string (containsNull = true)\n |-- mjtheme_namecode: array (nullable = true)\n |    |-- element: struct (containsNull = true)\n |    |    |-- code: string (nullable = true)\n |    |    |-- name: string (nullable = true)\n |-- mjthemecode: string (nullable = true)\n |-- prodline: string (nullable = true)\n |-- prodlinetext: string (nullable = true)\n |-- productlinetype: string (nullable = true)\n |-- project_abstract: struct (nullable = true)\n |    |-- cdata: string (nullable = true)\n |-- project_name: string (nullable = true)\n |-- projectdocs: array (nullable = true)\n |    |-- element: struct (containsNull = true)\n |    |    |-- DocDate: string (nullable = true)\n |    |    |-- DocType: string (nullable = true)\n |    |    |-- DocTypeDesc: string (nullable = true)\n |    |    |-- DocURL: string (nullable = true)\n |    |    |-- EntityID: string (nullable = true)\n |-- projectfinancialtype: string (nullable = true)\n |-- projectstatusdisplay: string (nullable = true)\n |-- regionname: string (nullable = true)\n |-- sector: array (nullable = true)\n |    |-- element: struct (containsNull = true)\n |    |    |-- Name: string (nullable = true)\n |-- sector1: struct (nullable = true)\n |    |-- Name: string (nullable = true)\n |    |-- Percent: long (nullable = true)\n |-- sector2: struct (nullable = true)\n |    |-- Name: string (nullable = true)\n |    |-- Percent: long (nullable = true)\n |-- sector3: struct (nullable = true)\n |    |-- Name: string (nullable = true)\n |    |-- Percent: long (nullable = true)\n |-- sector4: struct (nullable = true)\n |    |-- Name: string (nullable = true)\n |    |-- Percent: long (nullable = true)\n |-- sector_namecode: array (nullable = true)\n |    |-- element: struct (containsNull = true)\n |    |    |-- code: string (nullable = true)\n |    |    |-- name: string (nullable = true)\n |-- sectorcode: string (nullable = true)\n |-- source: string (nullable = true)\n |-- status: string (nullable = true)\n |-- supplementprojectflg: string (nullable = true)\n |-- theme1: struct (nullable = true)\n |    |-- Name: string (nullable = true)\n |    |-- Percent: long (nullable = true)\n |-- theme_namecode: array (nullable = true)\n |    |-- element: struct (containsNull = true)\n |    |    |-- code: string (nullable = true)\n |    |    |-- name: string (nullable = true)\n |-- themecode: string (nullable = true)\n |-- totalamt: long (nullable = true)\n |-- totalcommamt: long (nullable = true)\n |-- url: string (nullable = true)\n\nNone\n"
                }
            ]
        }, 
        {
            "source": "# Let's take a look at the first two rows of data\n\nThe example below enumerates our \"take\" command that pulls 2 items from the Dataframe\n<br>a simpiler option to see the data could also be:<br>\n\n##### copy and run the following code\n    for row in example1_df.take(2):\n        print row\n        print \"*\" * 20", 
            "metadata": {}, 
            "cell_type": "markdown"
        }, 
        {
            "execution_count": 4, 
            "source": "for row in example1_df.take(2):\n    print row\n    print \"*\" * 20", 
            "metadata": {
                "collapsed": false
            }, 
            "cell_type": "code", 
            "outputs": [
                {
                    "name": "stdout", 
                    "output_type": "stream", 
                    "text": "Row(_id=Row($oid=u'52b213b38594d8a2be17c780'), approvalfy=u'1999', board_approval_month=u'November', boardapprovaldate=u'2013-11-12T00:00:00Z', borrower=u'FEDERAL DEMOCRATIC REPUBLIC OF ETHIOPIA', closingdate=u'2018-07-07T00:00:00Z', country_namecode=u'Federal Democratic Republic of Ethiopia!$!ET', countrycode=u'ET', countryname=u'Federal Democratic Republic of Ethiopia', countryshortname=u'Ethiopia', docty=u'Project Information Document,Indigenous Peoples Plan,Project Information Document', envassesmentcategorycode=u'C', grantamt=0, ibrdcommamt=0, id=u'P129828', idacommamt=130000000, impagency=u'MINISTRY OF EDUCATION', lendinginstr=u'Investment Project Financing', lendinginstrtype=u'IN', lendprojectcost=550000000, majorsector_percent=[Row(Name=u'Education', Percent=46), Row(Name=u'Education', Percent=26), Row(Name=u'Public Administration, Law, and Justice', Percent=16), Row(Name=u'Education', Percent=12)], mjsector_namecode=[Row(code=u'EX', name=u'Education'), Row(code=u'EX', name=u'Education'), Row(code=u'BX', name=u'Public Administration, Law, and Justice'), Row(code=u'EX', name=u'Education')], mjtheme=[u'Human development'], mjtheme_namecode=[Row(code=u'8', name=u'Human development'), Row(code=u'11', name=u'')], mjthemecode=u'8,11', prodline=u'PE', prodlinetext=u'IBRD/IDA', productlinetype=u'L', project_abstract=Row(cdata=u'The development objective of the Second Phase of General Education Quality Improvement Project for Ethiopia is to improve learning conditions in primary and secondary schools and strengthen institutions at different levels of educational administration. The project has six components. The first component is curriculum, textbooks, assessment, examinations, and inspection. This component will support improvement of learning conditions in grades KG-12 by providing increased access to teaching and learning materials and through improvements to the curriculum by assessing the strengths and weaknesses of the current curriculum. This component has following four sub-components: (i) curriculum reform and implementation; (ii) teaching and learning materials; (iii) assessment and examinations; and (iv) inspection. The second component is teacher development program (TDP). This component will support improvements in learning conditions in both primary and secondary schools by advancing the quality of teaching in general education through: (a) enhancing the training of pre-service teachers in teacher education institutions; and (b) improving the quality of in-service teacher training. This component has following three sub-components: (i) pre-service teacher training; (ii) in-service teacher training; and (iii) licensing and relicensing of teachers and school leaders. The third component is school improvement plan. This component will support the strengthening of school planning in order to improve learning outcomes, and to partly fund the school improvement plans through school grants. It has following two sub-components: (i) school improvement plan; and (ii) school grants. The fourth component is management and capacity building, including education management information systems (EMIS). This component will support management and capacity building aspect of the project. This component has following three sub-components: (i) capacity building for education planning and management; (ii) capacity building for school planning and management; and (iii) EMIS. The fifth component is improving the quality of learning and teaching in secondary schools and universities through the use of information and communications technology (ICT). It has following five sub-components: (i) national policy and institution for ICT in general education; (ii) national ICT infrastructure improvement plan for general education; (iii) develop an integrated monitoring, evaluation, and learning system specifically for the ICT component; (iv) teacher professional development in the use of ICT; and (v) provision of limited number of e-Braille display readers with the possibility to scale up to all secondary education schools based on the successful implementation and usage of the readers. The sixth component is program coordination, monitoring and evaluation, and communication. It will support institutional strengthening by developing capacities in all aspects of program coordination, monitoring and evaluation; a new sub-component on communications will support information sharing for better management and accountability. It has following three sub-components: (i) program coordination; (ii) monitoring and evaluation (M and E); and (iii) communication.'), project_name=u'Ethiopia General Education Quality Improvement Project II', projectdocs=[Row(DocDate=u'28-AUG-2013', DocType=u'PID', DocTypeDesc=u'Project Information Document (PID),  Vol.', DocURL=u'http://www-wds.worldbank.org/servlet/WDSServlet?pcont=details&eid=090224b081e545fb_1_0', EntityID=u'090224b081e545fb_1_0'), Row(DocDate=u'01-JUL-2013', DocType=u'IP', DocTypeDesc=u'Indigenous Peoples Plan (IP),  Vol.1 of 1', DocURL=u'http://www-wds.worldbank.org/servlet/WDSServlet?pcont=details&eid=000442464_20130920111729', EntityID=u'000442464_20130920111729'), Row(DocDate=u'22-NOV-2012', DocType=u'PID', DocTypeDesc=u'Project Information Document (PID),  Vol.', DocURL=u'http://www-wds.worldbank.org/servlet/WDSServlet?pcont=details&eid=090224b0817b19e2_1_0', EntityID=u'090224b0817b19e2_1_0')], projectfinancialtype=u'IDA', projectstatusdisplay=u'Active', regionname=u'Africa', sector=[Row(Name=u'Primary education'), Row(Name=u'Secondary education'), Row(Name=u'Public administration- Other social services'), Row(Name=u'Tertiary education')], sector1=Row(Name=u'Primary education', Percent=46), sector2=Row(Name=u'Secondary education', Percent=26), sector3=Row(Name=u'Public administration- Other social services', Percent=16), sector4=Row(Name=u'Tertiary education', Percent=12), sector_namecode=[Row(code=u'EP', name=u'Primary education'), Row(code=u'ES', name=u'Secondary education'), Row(code=u'BS', name=u'Public administration- Other social services'), Row(code=u'ET', name=u'Tertiary education')], sectorcode=u'ET,BS,ES,EP', source=u'IBRD', status=u'Active', supplementprojectflg=u'N', theme1=Row(Name=u'Education for all', Percent=100), theme_namecode=[Row(code=u'65', name=u'Education for all')], themecode=u'65', totalamt=130000000, totalcommamt=130000000, url=u'http://www.worldbank.org/projects/P129828/ethiopia-general-education-quality-improvement-project-ii?lang=en')\n********************\nRow(_id=Row($oid=u'52b213b38594d8a2be17c781'), approvalfy=u'2015', board_approval_month=u'November', boardapprovaldate=u'2013-11-04T00:00:00Z', borrower=u'GOVERNMENT OF TUNISIA', closingdate=None, country_namecode=u'Republic of Tunisia!$!TN', countrycode=u'TN', countryname=u'Republic of Tunisia', countryshortname=u'Tunisia', docty=u'Project Information Document,Integrated Safeguards Data Sheet,Integrated Safeguards Data Sheet,Project Information Document,Integrated Safeguards Data Sheet,Project Information Document', envassesmentcategorycode=u'C', grantamt=4700000, ibrdcommamt=0, id=u'P144674', idacommamt=0, impagency=u'MINISTRY OF FINANCE', lendinginstr=u'Specific Investment Loan', lendinginstrtype=u'IN', lendprojectcost=5700000, majorsector_percent=[Row(Name=u'Public Administration, Law, and Justice', Percent=70), Row(Name=u'Public Administration, Law, and Justice', Percent=30)], mjsector_namecode=[Row(code=u'BX', name=u'Public Administration, Law, and Justice'), Row(code=u'BX', name=u'Public Administration, Law, and Justice')], mjtheme=[u'Economic management', u'Social protection and risk management'], mjtheme_namecode=[Row(code=u'1', name=u'Economic management'), Row(code=u'6', name=u'Social protection and risk management')], mjthemecode=u'1,6', prodline=u'RE', prodlinetext=u'Recipient Executed Activities', productlinetype=u'L', project_abstract=None, project_name=u'TN: DTF Social Protection Reforms Support', projectdocs=[Row(DocDate=u'29-MAR-2013', DocType=u'PID', DocTypeDesc=u'Project Information Document (PID),  Vol.1 of 1', DocURL=u'http://www-wds.worldbank.org/servlet/WDSServlet?pcont=details&eid=000333037_20131024115616', EntityID=u'000333037_20131024115616'), Row(DocDate=u'29-MAR-2013', DocType=u'ISDS', DocTypeDesc=u'Integrated Safeguards Data Sheet (ISDS),  Vol.1 of 1', DocURL=u'http://www-wds.worldbank.org/servlet/WDSServlet?pcont=details&eid=000356161_20131024151611', EntityID=u'000356161_20131024151611'), Row(DocDate=u'29-MAR-2013', DocType=u'ISDS', DocTypeDesc=u'Integrated Safeguards Data Sheet (ISDS),  Vol.1 of 1', DocURL=u'http://www-wds.worldbank.org/servlet/WDSServlet?pcont=details&eid=000442464_20131031112136', EntityID=u'000442464_20131031112136'), Row(DocDate=u'29-MAR-2013', DocType=u'PID', DocTypeDesc=u'Project Information Document (PID),  Vol.1 of 1', DocURL=u'http://www-wds.worldbank.org/servlet/WDSServlet?pcont=details&eid=000333037_20131031105716', EntityID=u'000333037_20131031105716'), Row(DocDate=u'16-JAN-2013', DocType=u'ISDS', DocTypeDesc=u'Integrated Safeguards Data Sheet (ISDS),  Vol.1 of 1', DocURL=u'http://www-wds.worldbank.org/servlet/WDSServlet?pcont=details&eid=000356161_20130305113209', EntityID=u'000356161_20130305113209'), Row(DocDate=u'16-JAN-2013', DocType=u'PID', DocTypeDesc=u'Project Information Document (PID),  Vol.1 of 1', DocURL=u'http://www-wds.worldbank.org/servlet/WDSServlet?pcont=details&eid=000356161_20130305113716', EntityID=u'000356161_20130305113716')], projectfinancialtype=u'OTHER', projectstatusdisplay=u'Active', regionname=u'Middle East and North Africa', sector=[Row(Name=u'Public administration- Other social services'), Row(Name=u'General public administration sector')], sector1=Row(Name=u'Public administration- Other social services', Percent=70), sector2=Row(Name=u'General public administration sector', Percent=30), sector3=None, sector4=None, sector_namecode=[Row(code=u'BS', name=u'Public administration- Other social services'), Row(code=u'BZ', name=u'General public administration sector')], sectorcode=u'BZ,BS', source=u'IBRD', status=u'Active', supplementprojectflg=u'N', theme1=Row(Name=u'Other economic management', Percent=30), theme_namecode=[Row(code=u'24', name=u'Other economic management'), Row(code=u'54', name=u'Social safety nets')], themecode=u'54,24', totalamt=0, totalcommamt=4700000, url=u'http://www.worldbank.org/projects/P144674?lang=en')\n********************\n"
                }
            ]
        }, 
        {
            "source": "# Now let's register a table which is a pointer to the Dataframe and allows data access via Spark SQL\n\n##### copy and run the following code\n    #Simply use the Dataframe Object to create the table:\n    example1_df.registerTempTable(\"world_bank\")", 
            "metadata": {}, 
            "cell_type": "markdown"
        }, 
        {
            "execution_count": 5, 
            "source": " example1_df.registerTempTable(\"world_bank\")", 
            "metadata": {
                "collapsed": false
            }, 
            "cell_type": "code", 
            "outputs": []
        }, 
        {
            "source": "### The returned object will be a dataframe\n##### copy and run the following code\n    temp_df =  sqlContext.sql(\"select * from world_bank limit 2\")\n\n    print type(temp_df)\n    print \"*\" * 20\n    print temp_df", 
            "metadata": {}, 
            "cell_type": "markdown"
        }, 
        {
            "execution_count": 6, 
            "source": "temp_df =  sqlContext.sql(\"select * from world_bank limit 2\")\n\nprint type(temp_df)\nprint \"*\" * 20\nprint temp_df", 
            "metadata": {
                "collapsed": false
            }, 
            "cell_type": "code", 
            "outputs": [
                {
                    "name": "stdout", 
                    "output_type": "stream", 
                    "text": "<class 'pyspark.sql.dataframe.DataFrame'>\n********************\nDataFrame[_id: struct<$oid:string>, approvalfy: string, board_approval_month: string, boardapprovaldate: string, borrower: string, closingdate: string, country_namecode: string, countrycode: string, countryname: string, countryshortname: string, docty: string, envassesmentcategorycode: string, grantamt: bigint, ibrdcommamt: bigint, id: string, idacommamt: bigint, impagency: string, lendinginstr: string, lendinginstrtype: string, lendprojectcost: bigint, majorsector_percent: array<struct<Name:string,Percent:bigint>>, mjsector_namecode: array<struct<code:string,name:string>>, mjtheme: array<string>, mjtheme_namecode: array<struct<code:string,name:string>>, mjthemecode: string, prodline: string, prodlinetext: string, productlinetype: string, project_abstract: struct<cdata:string>, project_name: string, projectdocs: array<struct<DocDate:string,DocType:string,DocTypeDesc:string,DocURL:string,EntityID:string>>, projectfinancialtype: string, projectstatusdisplay: string, regionname: string, sector: array<struct<Name:string>>, sector1: struct<Name:string,Percent:bigint>, sector2: struct<Name:string,Percent:bigint>, sector3: struct<Name:string,Percent:bigint>, sector4: struct<Name:string,Percent:bigint>, sector_namecode: array<struct<code:string,name:string>>, sectorcode: string, source: string, status: string, supplementprojectflg: string, theme1: struct<Name:string,Percent:bigint>, theme_namecode: array<struct<code:string,name:string>>, themecode: string, totalamt: bigint, totalcommamt: bigint, url: string]\n"
                }
            ]
        }, 
        {
            "source": "#### One nice feature of the notebooks and python is that we can show it in a table via Pandas\nsqlContext.sql(\"select id, borrower from world_bank limit 2\").toPandas()", 
            "metadata": {}, 
            "cell_type": "markdown"
        }, 
        {
            "execution_count": 9, 
            "source": "spark.sql(\"select id, borrower from world_bank limit 2\").toPandas()", 
            "metadata": {
                "collapsed": false
            }, 
            "cell_type": "code", 
            "outputs": [
                {
                    "execution_count": 9, 
                    "data": {
                        "text/html": "<div>\n<table border=\"1\" class=\"dataframe\">\n  <thead>\n    <tr style=\"text-align: right;\">\n      <th></th>\n      <th>id</th>\n      <th>borrower</th>\n    </tr>\n  </thead>\n  <tbody>\n    <tr>\n      <th>0</th>\n      <td>P129828</td>\n      <td>FEDERAL DEMOCRATIC REPUBLIC OF ETHIOPIA</td>\n    </tr>\n    <tr>\n      <th>1</th>\n      <td>P144674</td>\n      <td>GOVERNMENT OF TUNISIA</td>\n    </tr>\n  </tbody>\n</table>\n</div>", 
                        "text/plain": "        id                                 borrower\n0  P129828  FEDERAL DEMOCRATIC REPUBLIC OF ETHIOPIA\n1  P144674                    GOVERNMENT OF TUNISIA"
                    }, 
                    "metadata": {}, 
                    "output_type": "execute_result"
                }
            ]
        }, 
        {
            "source": "### Here is a simple group by example:\n\n#### Count the number of projects by each country, only list the top 10\n", 
            "metadata": {}, 
            "cell_type": "markdown"
        }, 
        {
            "execution_count": 10, 
            "source": "query = \"\"\"\nselect countryname,\n       count(1) as projects\nfrom world_bank\ngroup by countryname\norder by projects desc\nlimit 10\n\"\"\"\nspark.sql(query).toPandas()", 
            "metadata": {
                "collapsed": false
            }, 
            "cell_type": "code", 
            "outputs": [
                {
                    "execution_count": 10, 
                    "data": {
                        "text/html": "<div>\n<table border=\"1\" class=\"dataframe\">\n  <thead>\n    <tr style=\"text-align: right;\">\n      <th></th>\n      <th>countryname</th>\n      <th>projects</th>\n    </tr>\n  </thead>\n  <tbody>\n    <tr>\n      <th>0</th>\n      <td>Republic of Indonesia</td>\n      <td>19</td>\n    </tr>\n    <tr>\n      <th>1</th>\n      <td>People's Republic of China</td>\n      <td>19</td>\n    </tr>\n    <tr>\n      <th>2</th>\n      <td>Socialist Republic of Vietnam</td>\n      <td>17</td>\n    </tr>\n    <tr>\n      <th>3</th>\n      <td>Republic of India</td>\n      <td>16</td>\n    </tr>\n    <tr>\n      <th>4</th>\n      <td>Republic of Yemen</td>\n      <td>13</td>\n    </tr>\n    <tr>\n      <th>5</th>\n      <td>Kingdom of Morocco</td>\n      <td>12</td>\n    </tr>\n    <tr>\n      <th>6</th>\n      <td>People's Republic of Bangladesh</td>\n      <td>12</td>\n    </tr>\n    <tr>\n      <th>7</th>\n      <td>Nepal</td>\n      <td>12</td>\n    </tr>\n    <tr>\n      <th>8</th>\n      <td>Africa</td>\n      <td>11</td>\n    </tr>\n    <tr>\n      <th>9</th>\n      <td>Republic of Mozambique</td>\n      <td>11</td>\n    </tr>\n  </tbody>\n</table>\n</div>", 
                        "text/plain": "                       countryname  projects\n0            Republic of Indonesia        19\n1       People's Republic of China        19\n2    Socialist Republic of Vietnam        17\n3                Republic of India        16\n4                Republic of Yemen        13\n5               Kingdom of Morocco        12\n6  People's Republic of Bangladesh        12\n7                            Nepal        12\n8                           Africa        11\n9           Republic of Mozambique        11"
                    }, 
                    "metadata": {}, 
                    "output_type": "execute_result"
                }
            ]
        }, 
        {
            "source": "### Simple Example of Adding a Schema (headers) to an RDD and using it as a dataframe", 
            "metadata": {}, 
            "cell_type": "markdown"
        }, 
        {
            "source": "### In the example below a simple RDD is created with Random Data in two columns and an ID column.\n\n#### copy and run the following code\n\n    import random\n\n    #first let's create a simple RDD\n\n    #create a Python list of lists for our example\n    data_e2 = []\n    for x in range(1,6):\n        random_int = int(random.random() * 10)\n        data_e2.append([x, random_int, random_int^2])\n\n    #create the RDD with the random list of lists\n    rdd_example2 = sc.parallelize(data_e2)\n    print rdd_example2.collect()\n", 
            "metadata": {}, 
            "cell_type": "markdown"
        }, 
        {
            "execution_count": 11, 
            "source": "import random\n\n#first let's create a simple RDD\n\n#create a Python list of lists for our example\ndata_e2 = []\nfor x in range(1,6):\n    random_int = int(random.random() * 10)\n    data_e2.append([x, random_int, random_int^2])\n\n#create the RDD with the random list of lists\nrdd_example2 = sc.parallelize(data_e2)\nprint rdd_example2.collect()\n", 
            "metadata": {
                "collapsed": false
            }, 
            "cell_type": "code", 
            "outputs": [
                {
                    "name": "stdout", 
                    "output_type": "stream", 
                    "text": "[[1, 3, 1], [2, 6, 4], [3, 7, 5], [4, 1, 3], [5, 1, 3]]\n"
                }
            ]
        }, 
        {
            "source": "#### Now we can assign some header information\n\n#### copy and run the following code\n    from pyspark.sql.types import *\n\n    # The schema is encoded in a string.\n    schemaString = \"ID VAL1 VAL2\"\n\n    fields = [StructField(field_name, StringType(), True) for field_name in schemaString.split()]\n    schema = StructType(fields)\n\n    # Apply the schema to the RDD.\n    schemaExample = sqlContext.createDataFrame(rdd_example2, schema)\n\n    # Register the DataFrame as a table.\n    schemaExample.registerTempTable(\"example2\")\n\n    # Pull the data\n    print schemaExample.collect()\n\n", 
            "metadata": {}, 
            "cell_type": "markdown"
        }, 
        {
            "execution_count": 12, 
            "source": "from pyspark.sql.types import *\n\n# The schema is encoded in a string.\nschemaString = \"ID VAL1 VAL2\"\n\nfields = [StructField(field_name, StringType(), True) for field_name in schemaString.split()]\nschema = StructType(fields)\n\n# Apply the schema to the RDD.\nschemaExample = sqlContext.createDataFrame(rdd_example2, schema)\n\n# Register the DataFrame as a table.\nschemaExample.registerTempTable(\"example2\")\n\n# Pull the data\nprint schemaExample.collect()", 
            "metadata": {
                "collapsed": false
            }, 
            "cell_type": "code", 
            "outputs": [
                {
                    "name": "stdout", 
                    "output_type": "stream", 
                    "text": "[Row(ID=u'1', VAL1=u'3', VAL2=u'1'), Row(ID=u'2', VAL1=u'6', VAL2=u'4'), Row(ID=u'3', VAL1=u'7', VAL2=u'5'), Row(ID=u'4', VAL1=u'1', VAL2=u'3'), Row(ID=u'5', VAL1=u'1', VAL2=u'3')]\n"
                }
            ]
        }, 
        {
            "source": "### Print only first 2 rows of the rdd\n\n<br/>\n<div>\n<div class=\"panel panel-default\">\n    <div class=\"panel-heading\">\n      <h4 class=\"panel-title\">\n        <a data-toggle=\"collapse\" data-parent=\"#accordion-11\" href=\"#collapse1-11\">\n        Hint</a>\n      </h4>\n    </div>\n    <div id=\"collapse1-11\" class=\"panel-collapse collapse\">\n      <div class=\"panel-body\">Use .take(N) </div>\n    </div>\n  </div>\n </div>", 
            "metadata": {}, 
            "cell_type": "markdown"
        }, 
        {
            "source": "#### Now we can convert rdd_example3 to a Dataframe\n\n##### copy and run this code\n    from pyspark.sql import Row\n\n    rdd_example3 = rdd_example2.map(lambda x: Row(id=x[0], val1=x[1], val2=x[2]))\n    print rdd_example3.collect()\n    df_example3 = rdd_example3.toDF()", 
            "metadata": {}, 
            "cell_type": "markdown"
        }, 
        {
            "execution_count": 14, 
            "source": "from pyspark.sql import Row\n\nrdd_example3 = rdd_example2.map(lambda x: Row(id=x[0], val1=x[1], val2=x[2]))\nprint rdd_example3.collect()\ndf_example3 = rdd_example3.toDF()", 
            "metadata": {
                "collapsed": false
            }, 
            "cell_type": "code", 
            "outputs": [
                {
                    "name": "stdout", 
                    "output_type": "stream", 
                    "text": "[Row(id=1, val1=3, val2=1), Row(id=2, val1=6, val2=4), Row(id=3, val1=7, val2=5), Row(id=4, val1=1, val2=3), Row(id=5, val1=1, val2=3)]\n"
                }
            ]
        }, 
        {
            "source": "### Register this new data frame as a table \nstore it as 'df_example3'", 
            "metadata": {}, 
            "cell_type": "markdown"
        }, 
        {
            "execution_count": 15, 
            "source": "df_example3.registerTempTable('df_example3')", 
            "metadata": {
                "collapsed": true
            }, 
            "cell_type": "code", 
            "outputs": []
        }, 
        {
            "source": "#### Join the tables from above ", 
            "metadata": {}, 
            "cell_type": "markdown"
        }, 
        {
            "execution_count": null, 
            "source": "", 
            "metadata": {
                "collapsed": true
            }, 
            "cell_type": "code", 
            "outputs": []
        }, 
        {
            "source": "# Another powerful feature is the ability to create Functions and Use them in SQL Here is a simple example\n\nFirst we create a function in Python, then register it allowing for us to call it via SQL\n\n#### copy and run the following code\n    def simple_function(v):\n        return int(v * 10)\n\n    #test the function\n    print simple_function(3)", 
            "metadata": {}, 
            "cell_type": "markdown"
        }, 
        {
            "execution_count": 22, 
            "source": "def simple_function(v):\n    return int(v * 10)\n\n#test the function\nprint simple_function(3)", 
            "metadata": {
                "collapsed": false
            }, 
            "cell_type": "code", 
            "outputs": [
                {
                    "name": "stdout", 
                    "output_type": "stream", 
                    "text": "30\n"
                }
            ]
        }, 
        {
            "source": "#### Now we can register the function for use in SQL\nspark.udf.register('simple_function',simple_function,pyspark.sql.types.IntegerType())\n", 
            "metadata": {}, 
            "cell_type": "markdown"
        }, 
        {
            "execution_count": 19, 
            "source": "spark.udf.register('simple_function',simple_function,pyspark.sql.types.IntegerType())\n", 
            "metadata": {
                "collapsed": true
            }, 
            "cell_type": "code", 
            "outputs": []
        }, 
        {
            "source": "#### VAL1 and VAL2 look like strings, we can cast them as well\n\n    query = \"\"\"\n    select\n        ID,\n        VAL1,\n        VAL2,\n        simple_function(cast(VAL1 as int)) as s_VAL1,\n        simple_function(cast(VAL2 as int)) as s_VAL2\n    from\n     example2\n    \"\"\"\n    sqlContext.sql(query).toPandas()", 
            "metadata": {}, 
            "cell_type": "markdown"
        }, 
        {
            "execution_count": 24, 
            "source": "query = \"\"\"\nselect\n    ID,\n    VAL1,\n    VAL2,\n    simple_function(cast(VAL1 as int)) as s_VAL1,\n    simple_function(cast(VAL2 as int)) as s_VAL2\nfrom\n example2\n\"\"\"\nsqlContext.sql(query).toPandas()", 
            "metadata": {
                "collapsed": false
            }, 
            "cell_type": "code", 
            "outputs": [
                {
                    "execution_count": 24, 
                    "data": {
                        "text/html": "<div>\n<table border=\"1\" class=\"dataframe\">\n  <thead>\n    <tr style=\"text-align: right;\">\n      <th></th>\n      <th>ID</th>\n      <th>VAL1</th>\n      <th>VAL2</th>\n      <th>s_VAL1</th>\n      <th>s_VAL2</th>\n    </tr>\n  </thead>\n  <tbody>\n    <tr>\n      <th>0</th>\n      <td>1</td>\n      <td>3</td>\n      <td>1</td>\n      <td>30</td>\n      <td>10</td>\n    </tr>\n    <tr>\n      <th>1</th>\n      <td>2</td>\n      <td>6</td>\n      <td>4</td>\n      <td>60</td>\n      <td>40</td>\n    </tr>\n    <tr>\n      <th>2</th>\n      <td>3</td>\n      <td>7</td>\n      <td>5</td>\n      <td>70</td>\n      <td>50</td>\n    </tr>\n    <tr>\n      <th>3</th>\n      <td>4</td>\n      <td>1</td>\n      <td>3</td>\n      <td>10</td>\n      <td>30</td>\n    </tr>\n    <tr>\n      <th>4</th>\n      <td>5</td>\n      <td>1</td>\n      <td>3</td>\n      <td>10</td>\n      <td>30</td>\n    </tr>\n  </tbody>\n</table>\n</div>", 
                        "text/plain": "  ID VAL1 VAL2  s_VAL1  s_VAL2\n0  1    3    1      30      10\n1  2    6    4      60      40\n2  3    7    5      70      50\n3  4    1    3      10      30\n4  5    1    3      10      30"
                    }, 
                    "metadata": {}, 
                    "output_type": "execute_result"
                }
            ]
        }, 
        {
            "source": "# Pandas Example\nPandas is a common abstraction for working with data in Python.\n\nWe can turn Pandas Dataframes into Spark Dataframes, the advantage of this \ncould be scale or allowing us to run SQL statements agains the data.\n\n### copy and run the following code\n    import pandas as pd\n    print pd", 
            "metadata": {}, 
            "cell_type": "markdown"
        }, 
        {
            "execution_count": 25, 
            "source": "import pandas as pd\nprint pd", 
            "metadata": {
                "collapsed": false
            }, 
            "cell_type": "code", 
            "outputs": [
                {
                    "name": "stdout", 
                    "output_type": "stream", 
                    "text": "<module 'pandas' from '/usr/local/src/bluemix_jupyter_bundle.v41/notebook/lib/python2.7/site-packages/pandas/__init__.pyc'>\n"
                }
            ]
        }, 
        {
            "source": "### First, let's grab some UFO data to play with\n\n    !rm SIGHTINGS.csv -f\n    !wget https://www.quandl.com/api/v3/datasets/NUFORC/SIGHTINGS.csv", 
            "metadata": {}, 
            "cell_type": "markdown"
        }, 
        {
            "execution_count": 26, 
            "source": "!rm SIGHTINGS.csv -f\n!wget https://www.quandl.com/api/v3/datasets/NUFORC/SIGHTINGS.csv", 
            "metadata": {
                "collapsed": false
            }, 
            "cell_type": "code", 
            "outputs": [
                {
                    "name": "stdout", 
                    "output_type": "stream", 
                    "text": "--2017-04-25 16:14:51--  https://www.quandl.com/api/v3/datasets/NUFORC/SIGHTINGS.csv\nResolving www.quandl.com (www.quandl.com)... 104.25.53.103, 104.25.54.103, 2400:cb00:2048:1::6819:3567, ...\nConnecting to www.quandl.com (www.quandl.com)|104.25.53.103|:443... connected.\nHTTP request sent, awaiting response... 200 OK\nLength: 14406 (14K) [text/csv]\nSaving to: \u2018SIGHTINGS.csv\u2019\n\n100%[======================================>] 14,406      --.-K/s   in 0.001s  \n\n2017-04-25 16:14:51 (16.1 MB/s) - \u2018SIGHTINGS.csv\u2019 saved [14406/14406]\n\n"
                }
            ]
        }, 
        {
            "source": "### Using the CSV file, we can create a Pandas Dataframe:\n    pandas_df = pd.read_csv(\"./SIGHTINGS.csv\")\n    pandas_df.head()", 
            "metadata": {}, 
            "cell_type": "markdown"
        }, 
        {
            "execution_count": 28, 
            "source": "pandas_df = pd.read_csv(\"./SIGHTINGS.csv\") \npandas_df.head()", 
            "metadata": {
                "collapsed": false
            }, 
            "cell_type": "code", 
            "outputs": [
                {
                    "execution_count": 28, 
                    "data": {
                        "text/html": "<div>\n<table border=\"1\" class=\"dataframe\">\n  <thead>\n    <tr style=\"text-align: right;\">\n      <th></th>\n      <th>Reports</th>\n      <th>Count</th>\n    </tr>\n  </thead>\n  <tbody>\n    <tr>\n      <th>0</th>\n      <td>2017-04-30</td>\n      <td>240</td>\n    </tr>\n    <tr>\n      <th>1</th>\n      <td>2017-03-31</td>\n      <td>323</td>\n    </tr>\n    <tr>\n      <th>2</th>\n      <td>2017-02-28</td>\n      <td>403</td>\n    </tr>\n    <tr>\n      <th>3</th>\n      <td>2017-01-31</td>\n      <td>316</td>\n    </tr>\n    <tr>\n      <th>4</th>\n      <td>2016-12-31</td>\n      <td>343</td>\n    </tr>\n  </tbody>\n</table>\n</div>", 
                        "text/plain": "      Reports  Count\n0  2017-04-30    240\n1  2017-03-31    323\n2  2017-02-28    403\n3  2017-01-31    316\n4  2016-12-31    343"
                    }, 
                    "metadata": {}, 
                    "output_type": "execute_result"
                }
            ]
        }, 
        {
            "source": "### Look at the dataset, by registering as a temp table", 
            "metadata": {}, 
            "cell_type": "markdown"
        }, 
        {
            "execution_count": 30, 
            "source": "ufo_data = spark.createDataFrame(pandas_df)\nufo_data.registerTempTable('ufo_data')", 
            "metadata": {
                "collapsed": true
            }, 
            "cell_type": "code", 
            "outputs": []
        }, 
        {
            "source": "# Visualizing the Data\n- Here are some simple ways to create charts using Pandas output\n- In order to display in the notebook we need to tell matplotlib to render inline\nat this point import the supporting libraries as well\n", 
            "metadata": {}, 
            "cell_type": "markdown"
        }, 
        {
            "execution_count": 31, 
            "source": "%matplotlib inline \nimport matplotlib.pyplot as plt, numpy as np", 
            "metadata": {
                "collapsed": true
            }, 
            "cell_type": "code", 
            "outputs": []
        }, 
        {
            "source": "Pandas can call a function \"plot\" to create the charts.\nSince most charts are created from aggregates the record\nset should be small enough to store in Pandas\n\nWe can take our UFO data from before and create a \nPandas Dataframe from the Spark Dataframe\n\n    ufos_df = spark_df.toPandas()", 
            "metadata": {}, 
            "cell_type": "markdown"
        }, 
        {
            "execution_count": 33, 
            "source": "ufos_df = ufo_data.toPandas()", 
            "metadata": {
                "collapsed": false
            }, 
            "cell_type": "code", 
            "outputs": []
        }, 
        {
            "source": "To plot we call the \"plot\" method and specify the type, x and y axis columns\nand optionally the size of the chart.\n\nMany more details can be found here:\nhttp://pandas.pydata.org/pandas-docs/stable/visualization.html\n    \n    \n#### copy and run this code\nufos_df.plot(kind='bar', x='Reports', y='Count', figsize=(12, 5))", 
            "metadata": {}, 
            "cell_type": "markdown"
        }, 
        {
            "execution_count": 34, 
            "source": "ufos_df.plot(kind='bar', x='Reports', y='Count', figsize=(12, 5))", 
            "metadata": {
                "collapsed": false
            }, 
            "cell_type": "code", 
            "outputs": [
                {
                    "execution_count": 34, 
                    "data": {
                        "text/plain": "<matplotlib.axes._subplots.AxesSubplot at 0x7f2375fbd0d0>"
                    }, 
                    "metadata": {}, 
                    "output_type": "execute_result"
                }, 
                {
                    "data": {
                        "image/png": "[encoded data removed]", 
                        "text/plain": "<matplotlib.figure.Figure at 0x7f2378748b50>"
                    }, 
                    "metadata": {}, 
                    "output_type": "display_data"
                }
            ]
        }, 
        {
            "source": "### This doesn't look good, there are too many observations, can you check how many?\n", 
            "metadata": {}, 
            "cell_type": "markdown"
        }, 
        {
            "execution_count": 36, 
            "source": "spark.sql(\"select count(*) from ufo_data\").toPandas()", 
            "metadata": {
                "collapsed": false
            }, 
            "cell_type": "code", 
            "outputs": [
                {
                    "execution_count": 36, 
                    "data": {
                        "text/html": "<div>\n<table border=\"1\" class=\"dataframe\">\n  <thead>\n    <tr style=\"text-align: right;\">\n      <th></th>\n      <th>count(1)</th>\n    </tr>\n  </thead>\n  <tbody>\n    <tr>\n      <th>0</th>\n      <td>905</td>\n    </tr>\n  </tbody>\n</table>\n</div>", 
                        "text/plain": "   count(1)\n0       905"
                    }, 
                    "metadata": {}, 
                    "output_type": "execute_result"
                }
            ]
        }, 
        {
            "source": "<h2>Ideally we could just group by year, there are many ways we could solve that:</h2>\n\n1) parse the Reports column in SQL and output the year, then group on it\n2) create a simple Python function to parse the year and call it via sql\n3) as shown below: use map against the Dataframe and append a new column with \"year\"\n\nTge example below takes the existing data for each row and appends a new column \"year\" \nby taking the first for characters from the Reports column\n\nReports looks like this for example:\n2016-01-31\n\n##### copy and run this code\nufos_df = spark_df.map(lambda x: Row(**dict(x.asDict(), year=int(x.Reports[0:4])))).toDF()", 
            "metadata": {}, 
            "cell_type": "markdown"
        }, 
        {
            "execution_count": 39, 
            "source": "ufos_df = ufo_data.rdd.map(lambda x: Row(**dict(x.asDict(), year=int(x.Reports[0:4])))).toDF()", 
            "metadata": {
                "collapsed": false
            }, 
            "cell_type": "code", 
            "outputs": []
        }, 
        {
            "source": "#### Register the new Dataframe as a table \"ufo_withyear\"", 
            "metadata": {}, 
            "cell_type": "markdown"
        }, 
        {
            "execution_count": 41, 
            "source": "ufos_df.registerTempTable('ufo_withyear')", 
            "metadata": {
                "collapsed": false
            }, 
            "cell_type": "code", 
            "outputs": []
        }, 
        {
            "source": "#### Now can you group by year, order by year and filter to the last 66 years?\nplot your results", 
            "metadata": {}, 
            "cell_type": "markdown"
        }, 
        {
            "source": "<div class=\"panel panel-default\">\n    <div class=\"panel-heading\">\n      <h4 class=\"panel-title\">\n        <a data-toggle=\"collapse\" data-parent=\"#accordion-11\" href=\"#collapse3-11\">\n        Answer</a>\n      </h4>\n    </div>\n    <div id=\"collapse3-11\" class=\"panel-collapse collapse\">\n      <div class=\"panel-body\">query = \"\"\"<br>\n            select <br>\n                sum(Count) as count, <br>\n                year <br>\n            from ufo_withyear<br>\n            where year > 1950<br>\n            group by year<br>\n            order by year<br>\n            \"\"\"<br>\n            pandas_ufos_withyears = sqlContext.sql(query).toPandas()<br>\n            pandas_ufos_withyears.plot(kind='bar', x='year', y='count', figsize=(12, 5))<br></div>\n    </div>\n  </div>", 
            "metadata": {}, 
            "cell_type": "markdown"
        }, 
        {
            "execution_count": 42, 
            "source": "query = \"\"\"\nselect \n    sum(Count) as count, \n    year \nfrom ufo_withyear\nwhere year > 1950\ngroup by year\norder by year\n\"\"\"\npandas_ufos_withyears = sqlContext.sql(query).toPandas()\npandas_ufos_withyears.plot(kind='bar', x='year', y='count', figsize=(12, 5))", 
            "metadata": {
                "collapsed": false, 
                "scrolled": true
            }, 
            "cell_type": "code", 
            "outputs": [
                {
                    "execution_count": 42, 
                    "data": {
                        "text/plain": "<matplotlib.axes._subplots.AxesSubplot at 0x7f2370fbedd0>"
                    }, 
                    "metadata": {}, 
                    "output_type": "execute_result"
                }, 
                {
                    "data": {
                        "image/png": "[encoded data removed]", 
                        "text/plain": "<matplotlib.figure.Figure at 0x7f2375f4fc10>"
                    }, 
                    "metadata": {}, 
                    "output_type": "display_data"
                }
            ]
        }, 
        {
            "execution_count": null, 
            "source": "", 
            "metadata": {
                "collapsed": true
            }, 
            "cell_type": "code", 
            "outputs": []
        }
    ], 
    "nbformat": 4
}